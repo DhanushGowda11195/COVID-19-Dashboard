{
 "cells": [
  {
   "cell_type": "code",
   "execution_count": null,
   "id": "4c6cd58b",
   "metadata": {},
   "outputs": [],
   "source": [
    "import pandas as pd\n",
    "import numpy as np\n",
    "import requests\n",
    "from bs4 import BeautifulSoup\n",
    "import re\n",
    "from tabula import read_pdf\n",
    "from tabulate import tabulate"
   ]
  },
  {
   "cell_type": "markdown",
   "id": "7f05e457",
   "metadata": {},
   "source": [
    "## Global Data"
   ]
  },
  {
   "cell_type": "code",
   "execution_count": null,
   "id": "4163e31f",
   "metadata": {},
   "outputs": [],
   "source": [
    "r=requests.get('https://github.com/CSSEGISandData/COVID-19/tree/master/csse_covid_19_data/csse_covid_19_daily_reports')\n",
    "soup=BeautifulSoup(r.content)"
   ]
  },
  {
   "cell_type": "code",
   "execution_count": null,
   "id": "dde84cf3",
   "metadata": {},
   "outputs": [],
   "source": [
    "data_list={}\n",
    "for row in soup.findAll('div',attrs={'class':'flex-auto min-width-0 col-md-2 mr-3'}):\n",
    "    if row.text!='\\n.gitignore\\n' and row.text!='\\nREADME.md\\n':\n",
    "        data_list[re.sub('\\\\n','',row.text)]=re.sub('/blob','','https://raw.githubusercontent.com'+row.a['href'])"
   ]
  },
  {
   "cell_type": "code",
   "execution_count": null,
   "id": "bc2cb2e4",
   "metadata": {},
   "outputs": [],
   "source": [
    "df1=pd.DataFrame()\n",
    "for i,j in zip(link_list.loc[(link_list.Date>='2020-01-22') & (link_list.Date<='2020-03-21'),['Link']]['Link'],\n",
    "               link_list.loc[(link_list.Date>='2020-01-22') & (link_list.Date<='2020-03-21'),['Date']]['Date']):\n",
    "    temp=pd.read_csv(i).fillna(0)\n",
    "    temp['Date']=j\n",
    "    df1=pd.concat([df1,temp])\n",
    "df1=df1[['Date','Country/Region','Confirmed','Deaths','Recovered']].rename(columns={'Country/Region':'Country'})\n",
    "df1=df1.groupby(['Date','Country']).sum().reset_index().sort_values(by=['Date','Country'])\n",
    "df1['Active']=df1['Confirmed']-df1['Recovered']-df1['Deaths']\n",
    "df1.loc[df1['Active']<0,'Active']=0\n",
    "df1[['Confirmed','Deaths','Recovered','Active']]=df1[['Confirmed','Deaths','Recovered','Active']].astype('int64')\n",
    "df1['Country']=df1['Country'].str.strip()\n",
    "df1['Country']=df1.Country.replace(\n",
    "    to_replace=['Bahamas, The','Bosnia and Herzegovina','Congo (Brazzaville)',\n",
    "                'Congo (Kinshasa)',\"Cote d'Ivoire\",'Czech Republic','East Timor','French Guiana','Gambia, The','Greenland','Holy See',\n",
    "                'Hong Kong','Hong Kong SAR','Iran (Islamic Republic of)','Jersey','Korea, South','Mainland China','North Ireland',\n",
    "                'North Macedonia','Republic of Ireland','Republic of Korea','Republic of Moldova','Republic of the Congo',\n",
    "                'Russian Federation','South Korea','Taiwan*','The Bahamas','The Gambia','US','United Arab Emirates','United Kingdom',\n",
    "                'Vatican City','Viet Nam'],\n",
    "    value=['Bahamas','Bosnia','Congo','Congo',\"Côte d'Ivoire\",'Czechia','Timor-Leste','France','Gambia','Denmark',\n",
    "           'Holy See (Vatican City State)','China','China','Iran','USA','S. Korea','China','Ireland','Macedonia','Ireland',\n",
    "            'S. Korea','Moldova','Congo','Russia','S. Korea','Taiwan','Bahamas','Gambia','USA','UAE','UK',\n",
    "           'Holy See (Vatican City State)','Vietnam'])\n",
    "df1.shape"
   ]
  },
  {
   "cell_type": "code",
   "execution_count": null,
   "id": "1125debd",
   "metadata": {},
   "outputs": [],
   "source": [
    "df2=pd.DataFrame()\n",
    "for i,j in zip(link_list.loc[(link_list.Date>='2020-03-22'),['Link']]['Link'],\n",
    "               link_list.loc[(link_list.Date>='2020-03-22'),['Date']]['Date']):\n",
    "    temp=pd.read_csv(i).fillna(0)\n",
    "    temp['Date']=j\n",
    "    df2=pd.concat([df2,temp])\n",
    "df2=df2[['Date','Country_Region','Confirmed','Deaths','Recovered','Active']].rename(columns={'Country_Region':'Country'})\n",
    "df2=df2.groupby(['Date','Country']).sum().reset_index().sort_values(by=['Date','Country'])\n",
    "df2['Active']=df2['Confirmed']-df2['Recovered']-df2['Deaths']\n",
    "df2.loc[df2['Active']<0,'Active']=0\n",
    "df2[['Confirmed','Deaths','Recovered','Active']]=df2[['Confirmed','Deaths','Recovered','Active']].astype('int64')\n",
    "df2['Country']=df2['Country'].str.strip()\n",
    "df2['Country']=df2.Country.replace(\n",
    "    to_replace=['Bosnia and Herzegovina','Congo (Brazzaville)','Congo (Kinshasa)','Holy See','Korea, South','Libya',\n",
    "                'North Macedonia','Syria','Taiwan*','US','United Arab Emirates','United Kingdom',\"Cote d'Ivoire\"],\n",
    "    value=['Bosnia','Congo','Congo','Holy See (Vatican City State)','S. Korea','Libyan Arab Jamahiriya','Macedonia',\n",
    "            'Syrian Arab Republic','Taiwan','USA','UAE','UK',\"Côte d'Ivoire\"])\n",
    "df2.shape"
   ]
  },
  {
   "cell_type": "code",
   "execution_count": null,
   "id": "0b0228c9",
   "metadata": {},
   "outputs": [],
   "source": [
    "final_df=pd.concat([df1,df2])\n",
    "Country_ISO=pd.read_excel('Country_ISO.xlsx')\n",
    "final_df=final_df.merge(Country_ISO,how='left',on='Country')\n",
    "final_df=final_df.dropna(how='any',subset='Code')"
   ]
  },
  {
   "cell_type": "code",
   "execution_count": null,
   "id": "6056c9dc",
   "metadata": {},
   "outputs": [],
   "source": [
    "final_df['Week']=final_df['Date'].dt.strftime('WK %U-%Y')\n",
    "final_df['Month']=final_df['Date'].dt.strftime('%b-%Y')\n",
    "final_df['Year']=final_df['Date'].dt.year"
   ]
  },
  {
   "cell_type": "code",
   "execution_count": null,
   "id": "3c53c8de",
   "metadata": {},
   "outputs": [],
   "source": [
    "vaccine=pd.read_csv('https://raw.githubusercontent.com/owid/covid-19-data/master/public/data/vaccinations/vaccinations.csv').fillna(0)"
   ]
  },
  {
   "cell_type": "code",
   "execution_count": null,
   "id": "08af960c",
   "metadata": {},
   "outputs": [],
   "source": [
    "vaccine['date']=pd.to_datetime(vaccine['date'])"
   ]
  },
  {
   "cell_type": "code",
   "execution_count": null,
   "id": "17c7eee3",
   "metadata": {},
   "outputs": [],
   "source": [
    "df=final_df.merge(vaccine[['iso_code','date','total_vaccinations']],\n",
    "             how='left',\n",
    "             left_on=['Code','Date'],\n",
    "             right_on=['iso_code','date']).fillna(0)[['Country','Code', 'Date', 'Confirmed', 'Deaths', 'Recovered', 'Active',\n",
    "       'Week', 'Month', 'Year','total_vaccinations']]\n",
    "df.rename(columns={'total_vaccinations':'Total Vaccinations'},inplace=True)    \n",
    "df['Total Vaccinations']=df['Total Vaccinations'].astype('int64')\n",
    "df"
   ]
  },
  {
   "cell_type": "code",
   "execution_count": null,
   "id": "571a7f13",
   "metadata": {},
   "outputs": [],
   "source": [
    "df.to_csv('global_covid_raw.csv',index=False)"
   ]
  },
  {
   "cell_type": "markdown",
   "id": "0e6d9077",
   "metadata": {},
   "source": [
    "## India Data"
   ]
  },
  {
   "cell_type": "code",
   "execution_count": null,
   "id": "8f43134e",
   "metadata": {},
   "outputs": [],
   "source": [
    "r=requests.get('https://github.com/datameet/covid19/tree/master/downloads/mohfw-backup/data_json')\n",
    "soup=BeautifulSoup(r.content)"
   ]
  },
  {
   "cell_type": "code",
   "execution_count": null,
   "id": "9dd35700",
   "metadata": {},
   "outputs": [],
   "source": [
    "data_list={}\n",
    "for row in soup.findAll('div',attrs={'class':'flex-auto min-width-0 col-md-2 mr-3'}):\n",
    "    if row.text!='\\n.gitignore\\n' and row.text!='\\nREADME.md\\n':\n",
    "        data_list[re.split('T',re.sub('\\\\n','',row.text))[0]]=re.sub('/blob','','https://raw.githubusercontent.com'+row.a['href'])"
   ]
  },
  {
   "cell_type": "code",
   "execution_count": null,
   "id": "4d5efd9e",
   "metadata": {},
   "outputs": [],
   "source": [
    "df=pd.DataFrame()\n",
    "for i,j in zip(data_list.values(),data_list.keys()):\n",
    "    if j !='2020-07-28.json':\n",
    "        temp=pd.read_json(i)\n",
    "        temp['Date']=j\n",
    "        df=pd.concat([df,temp])\n",
    "df.drop(['sno','active', 'new_active', 'new_positive', 'new_cured', 'new_death',\n",
    "       'death_reconsille', 'total', 'actualdeath24hrs'],axis=1,inplace=True)\n",
    "df.shape"
   ]
  },
  {
   "cell_type": "code",
   "execution_count": null,
   "id": "e56a5e67",
   "metadata": {},
   "outputs": [],
   "source": [
    "df['Date'].replace('.json','',inplace=True,regex=True)\n",
    "df['Date']=pd.to_datetime(df['Date'])\n",
    "df=df.loc[(df.state_name!='')|(df.state_name!='Ladakh')]\n",
    "df.shape"
   ]
  },
  {
   "cell_type": "code",
   "execution_count": null,
   "id": "67045b1a",
   "metadata": {},
   "outputs": [],
   "source": [
    "df['state_name'].replace(['Dadra and Nagar Haveli and Daman and Diu', 'Telengana***',\n",
    "       'Maharashtra***', 'Chandigarh***', 'Punjab***', 'Telangana',\n",
    "       'Bihar****', 'Madhya Pradesh***', 'Himanchal Pradesh',\n",
    "       'Karanataka', 'Haryana***', 'Kerala***', 'Punjab****',\n",
    "       'Maharashtra****', 'Chandigarh****', 'Goa*****', 'Goa****',\n",
    "       'Uttar Pradesh*****', 'Maharashtra*****', 'Assam****',\n",
    "       'Karnataka****', 'Goa*', 'Punjab**'],['Dadra and Nagar Haveli','Telengana','Maharashtra','Chandigarh',\n",
    "                                            'Punjab','Telengana','Bihar','Madhya Pradesh','Himachal Pradesh',\n",
    "                                            'Karnataka','Haryana','Kerala','Punjab','Maharashtra','Chandigarh',\n",
    "                                            'Goa','Goa','Uttar Pradesh','Maharashtra','Assam','Karnataka',\n",
    "                                            'Goa','Punjab'],inplace=True)\n",
    "df.rename(columns={'state_name':'State','positive':'Confirmed','cured':'Recovered','death':'Deaths','state_code':'State_Code'},inplace=True)\n",
    "df=df[[ 'Date','State', 'Confirmed', 'Recovered', 'Deaths', 'state_code']].sort_values(['Date','State'])\n",
    "df.shape"
   ]
  },
  {
   "cell_type": "code",
   "execution_count": null,
   "id": "ad676e99",
   "metadata": {},
   "outputs": [],
   "source": [
    "df['State'].replace(['Andaman and Nicobar Islands','Arunachal Pradesh','Daman and Diu','Dadra and Nagar Haveli',\n",
    "                         'Delhi','Jammu and Kashmir','Telengana'],\n",
    "                        ['Andaman & Nicobar Island','Arunanchal Pradesh','Daman & Diu','Dadara & Nagar Havelli',\n",
    "                         'NCT of Delhi','Jammu & Kashmir','Telangana'],inplace=True)"
   ]
  },
  {
   "cell_type": "code",
   "execution_count": null,
   "id": "1e02c18b",
   "metadata": {},
   "outputs": [],
   "source": [
    "df['Active']=df['Confirmed']-df['Recovered']-df['Deaths']\n",
    "df['Week']=df['Date'].dt.strftime('WK %U-%Y')\n",
    "df['Month']=df['Date'].dt.strftime('%b-%Y')\n",
    "df['Year']=df['Date'].dt.year\n",
    "df"
   ]
  },
  {
   "cell_type": "code",
   "execution_count": null,
   "id": "10d8cbba",
   "metadata": {},
   "outputs": [],
   "source": [
    "df.to_csv('india_covid_raw.csv',index=False)"
   ]
  },
  {
   "cell_type": "markdown",
   "id": "63f0091f",
   "metadata": {},
   "source": [
    "# India - Vaccination Data"
   ]
  },
  {
   "cell_type": "code",
   "execution_count": null,
   "id": "ab41cefe",
   "metadata": {},
   "outputs": [],
   "source": [
    "r=requests.get('https://github.com/datameet/covid19/tree/master/downloads/mohfw-backup/cumulative_vaccination_coverage')\n",
    "soup=BeautifulSoup(r.content)"
   ]
  },
  {
   "cell_type": "code",
   "execution_count": null,
   "id": "d1c6b33b",
   "metadata": {},
   "outputs": [],
   "source": [
    "data_list={}\n",
    "for row in soup.findAll('div',attrs={'class':'flex-auto min-width-0 col-md-2 mr-3'}):\n",
    "    if row.text!='\\n.gitignore\\n' and row.text!='\\nREADME.md\\n':\n",
    "        data_list[re.split('T',re.sub('\\\\n','',row.text))[0]]=re.sub('/blob','','https://raw.githubusercontent.com'+row.a['href'])\n",
    "del data_list['2022-07-2#-at-07-00-AM.pdf']\n",
    "del data_list['2022-02-17-at-07-00-AM.pdf']\n",
    "del data_list['2022-02-07-at-08-00-AM.pdf']\n",
    "del data_list['2022-05-11-at-07-00-AM.pdf']\n",
    "del data_list['2022-08-01-at-07-00-AM.pdf']"
   ]
  },
  {
   "cell_type": "code",
   "execution_count": null,
   "id": "926d067c",
   "metadata": {},
   "outputs": [],
   "source": [
    "link_list=pd.DataFrame(data=data_list.values(),index=data_list.keys()).reset_index().rename(columns={'index':'Filename',0:'Link'})"
   ]
  },
  {
   "cell_type": "code",
   "execution_count": null,
   "id": "59aac76e",
   "metadata": {},
   "outputs": [],
   "source": [
    "link_list['Date']=pd.to_datetime(link_list['Filename'].str[:10])"
   ]
  },
  {
   "cell_type": "code",
   "execution_count": null,
   "id": "8649e2ba",
   "metadata": {},
   "outputs": [],
   "source": [
    "df1=pd.DataFrame()\n",
    "for i,j in zip(link_list.loc[link_list.Date=='2021-02-25','Link'],link_list['Date']):\n",
    "    temp = read_pdf(i,pages=\"all\")[1][1:] \n",
    "    temp.columns=['Sl.No','State','Session planned','Session completed','18+ Dose 1','18+ Dose 2', '18+ Total Doses']\n",
    "    temp['Date']=j\n",
    "    df1=pd.concat([df1,temp[['Date','State','18+ Dose 1','18+ Dose 2', '18+ Total Doses']]])\n",
    "df1.shape"
   ]
  },
  {
   "cell_type": "code",
   "execution_count": null,
   "id": "ff0d17cc",
   "metadata": {},
   "outputs": [],
   "source": [
    "df2=pd.DataFrame()\n",
    "for i,j in zip(link_list.loc[(link_list.Date>='2021-02-26') & (link_list.Date<='2022-01-03'),['Link']]['Link'],\n",
    "               link_list.loc[(link_list.Date>='2021-02-26') & (link_list.Date<='2022-01-03'),['Date']]['Date']):\n",
    "    if j == pd.to_datetime('2021-08-09'):\n",
    "        temp=read_pdf(i,pages='all')[1]\n",
    "        temp=temp.loc[temp.iloc[:,0].isin([str(x) for x in range(1,40)]+[float(x) for x in range(1,40)])].dropna(how='all',axis=1)\n",
    "        temp.columns=['Sl.No','State','18+ Dose 1','18+ Dose 2']\n",
    "        temp['18+ Total Doses']=temp['18+ Dose 1'].str.replace(',','').astype('int64')+temp['18+ Dose 2'].str.replace(',','').astype('int64')\n",
    "    elif j == pd.to_datetime('2021-09-11'):\n",
    "        temp = read_pdf(i,pages=\"all\")[1][1:] \n",
    "        temp['Sl.No']=temp['Beneficiaries vaccinatedS. No. State/UT'].apply(lambda x:re.findall('\\d+',x)[0])\n",
    "        temp['State']=temp['Beneficiaries vaccinatedS. No. State/UT'].apply(lambda x:re.split('^\\d+',x)[1])\n",
    "        temp['18+ Dose 2']=temp['Unnamed: 0'].apply(lambda x:re.split(' ',x)[0])\n",
    "        temp['18+ Total Doses']=temp['Unnamed: 0'].apply(lambda x:re.split(' ',x)[1])\n",
    "        temp.drop(['Beneficiaries vaccinatedS. No. State/UT','Unnamed: 0'],axis=1,inplace=True)\n",
    "        temp.columns=['18+ Total Doses','Sl.No','State','18+ Dose 1','18+ Dose 2']\n",
    "    else:\n",
    "        temp = read_pdf(i,pages=\"all\")\n",
    "        if len(temp)==2:\n",
    "            temp=temp[1]\n",
    "        elif len(temp)==1:\n",
    "            temp=temp[0]\n",
    "        else: \n",
    "            temp=temp[2]\n",
    "        temp=temp.loc[temp.iloc[:,0].isin([str(x) for x in range(1,40)]+[float(x) for x in range(1,40)])].dropna(how='all',axis=1)\n",
    "        temp.columns=['Sl.No','State','18+ Dose 1','18+ Dose 2', '18+ Total Doses']\n",
    "        \n",
    "    temp['Date']=j\n",
    "    df2=pd.concat([df2,temp[['Date','State','18+ Dose 1','18+ Dose 2', '18+ Total Doses']]])\n",
    "df2.shape"
   ]
  },
  {
   "cell_type": "code",
   "execution_count": null,
   "id": "9b48f159",
   "metadata": {},
   "outputs": [],
   "source": [
    "df3=pd.DataFrame()\n",
    "for i,j in zip(link_list.loc[(link_list.Date>='2022-01-04') & (link_list.Date<='2022-01-10'),['Link']]['Link'],\n",
    "               link_list.loc[(link_list.Date>='2022-01-04') & (link_list.Date<='2022-01-10'),['Date']]['Date']):\n",
    "    if j !=pd.to_datetime('2022-01-09'):\n",
    "        temp = read_pdf(i,pages=\"all\")[1] \n",
    "        temp=read_pdf(i,pages='all')[1]\n",
    "        temp=temp.loc[temp.iloc[:,0].isin([str(x) for x in range(1,40)]+[float(x) for x in range(1,40)])].dropna(how='all',axis=1)\n",
    "        temp.columns=['Sl.No','State','18+ Dose 1','18+ Dose 2','18+ Total Doses','15-18 Dose 1']\n",
    "    else:\n",
    "        temp = read_pdf(i,pages=\"all\")[1] \n",
    "        temp=temp.loc[temp.iloc[:,0].isin([str(x) for x in range(1,40)]+[float(x) for x in range(1,40)])].dropna(how='all',axis=1)\n",
    "        temp['18+ Dose 2']=temp['Beneficiaries Vaccinated'].apply(lambda x:re.split(' ',x)[0])\n",
    "        temp['18+ Total Doses']=temp['Beneficiaries Vaccinated'].apply(lambda x:re.split(' ',x)[1])\n",
    "        temp.drop('Beneficiaries Vaccinated',axis=1,inplace=True)\n",
    "        temp.columns=['Sl.No','State','18+ Dose 1','15-18 Dose 1','18+ Dose 2','18+ Total Doses']\n",
    "    temp['Date']=j\n",
    "    df3=pd.concat([df3,temp[['Date','State','18+ Dose 1','18+ Dose 2', '18+ Total Doses','15-18 Dose 1']]])\n",
    "df3.shape"
   ]
  },
  {
   "cell_type": "code",
   "execution_count": null,
   "id": "0fcbc075",
   "metadata": {},
   "outputs": [],
   "source": [
    "df4=pd.DataFrame()\n",
    "for i,j in zip(link_list.loc[(link_list.Date>='2022-01-11') & (link_list.Date<='2022-01-31'),['Link']]['Link'],\n",
    "               link_list.loc[(link_list.Date>='2022-01-11') & (link_list.Date<='2022-01-31'),['Date']]['Date']):\n",
    "    if j not in pd.to_datetime(['2022-01-24','2022-01-27','2022-01-28','2022-01-29','2022-01-31']):    \n",
    "        temp = read_pdf(i,pages=\"all\")[1] \n",
    "        temp=temp.loc[temp.iloc[:,0].isin([str(x) for x in range(1,40)]+[float(x) for x in range(1,40)])].dropna(how='all',axis=1)\n",
    "        temp['18+ Dose 1']=temp['Beneficiaries Vaccinated'].apply(lambda x:re.split(' ',x)[0])\n",
    "        temp['18+ Dose 2']=temp['Beneficiaries Vaccinated'].apply(lambda x:re.split(' ',x)[1])\n",
    "        temp['15-18 Dose 1']=temp['Beneficiaries Vaccinated'].apply(lambda x:re.split(' ',x)[2])\n",
    "        temp.drop('Beneficiaries Vaccinated',axis=1,inplace=True)\n",
    "        temp.columns=['Sl.No','State','60+ Booster Dose','Total Doses','18+ Dose 1','18+ Dose 2','15-18 Dose 1']\n",
    "    else:\n",
    "        temp = read_pdf(i,pages=\"all\")[1] \n",
    "        temp=temp.loc[temp.iloc[:,0].isin([str(x) for x in range(1,40)]+[float(x) for x in range(1,40)])].dropna(how='all',axis=1)\n",
    "        temp.columns=['Sl.No','State','18+ Dose 1','18+ Dose 2','15-18 Dose 1','60+ Booster Dose','Total Doses']\n",
    "    temp['18+ Total Doses']=temp['18+ Dose 1'].str.replace(',','').astype('int64')+temp['18+ Dose 2'].str.replace(',','').astype('int64')\n",
    "    temp['Date']=j\n",
    "    df4=pd.concat([df4,temp[['Date','State','18+ Dose 1','18+ Dose 2', '18+ Total Doses','15-18 Dose 1','60+ Booster Dose','Total Doses']]])\n",
    "df4.shape"
   ]
  },
  {
   "cell_type": "code",
   "execution_count": null,
   "id": "79e7ccac",
   "metadata": {},
   "outputs": [],
   "source": [
    "df5=pd.DataFrame()\n",
    "for i,j in zip(link_list.loc[(link_list.Date>='2022-02-01') & (link_list.Date<='2022-03-16'),['Link']]['Link'],\n",
    "               link_list.loc[(link_list.Date>='2022-02-01') & (link_list.Date<='2022-03-16'),['Date']]['Date']):\n",
    "    try:\n",
    "        temp = read_pdf(i,pages=\"all\")[1] \n",
    "        temp=temp.loc[temp.iloc[:,0].isin([str(x) for x in range(1,40)]+[float(x) for x in range(1,40)])].dropna(how='all',axis=1)\n",
    "        temp.columns=['Sl.No','State','18+ Dose 1','18+ Dose 2','15-18 Dose 1','15-18 Dose 2','60+ Booster Dose','Total Doses']\n",
    "    except:\n",
    "        try:\n",
    "            temp = read_pdf(i,pages=\"all\")[1]\n",
    "            temp=temp.loc[temp.iloc[:,0].isin([str(x) for x in range(1,40)]+[float(x) for x in range(1,40)])].dropna(how='all',axis=1)\n",
    "            temp['18+ Dose 1']=temp[temp.columns[2]].apply(lambda x:re.split(' ',x)[0])\n",
    "            temp['18+ Dose 2']=temp[temp.columns[2]].apply(lambda x:re.split(' ',x)[1])\n",
    "            temp['15-18 Dose 1']=temp['Beneficiaries Vaccinated'].apply(lambda x:re.split(' ',x)[0])\n",
    "            temp['15-18 Dose 2']=temp['Beneficiaries Vaccinated'].apply(lambda x:re.split(' ',x)[1])\n",
    "            temp.drop(['Beneficiaries Vaccinated',temp.columns[2]],axis=1,inplace=True)\n",
    "            temp.columns=['Sl.No','State','60+ Booster Dose','Total Doses','18+ Dose 1','18+ Dose 2','15-18 Dose 1','15-18 Dose 2']\n",
    "        except:\n",
    "            temp = read_pdf(i,pages=\"all\")[1] \n",
    "            temp=temp.loc[temp.iloc[:,0].isin([str(x) for x in range(1,40)]+[float(x) for x in range(1,40)])].dropna(how='all',axis=1)\n",
    "            temp['18+ Dose 1']=temp['Unnamed: 2'].apply(lambda x:re.split(' ',x)[0])\n",
    "            temp['18+ Dose 2']=temp['Unnamed: 2'].apply(lambda x:re.split(' ',x)[1])\n",
    "            temp['15-18 Dose 1']=temp['Beneficiaries Vaccinated'].apply(lambda x:re.split(' ',x)[0])\n",
    "            temp['15-18 Dose 2']=temp['Beneficiaries Vaccinated'].apply(lambda x:re.split(' ',x)[1])\n",
    "            temp.drop(['Beneficiaries Vaccinated','Unnamed: 2'],axis=1,inplace=True)\n",
    "            temp.columns=['Sl.No','State','60+ Booster Dose','Total Doses','18+ Dose 1','18+ Dose 2','15-18 Dose 1','15-18 Dose 2']\n",
    "    temp['18+ Total Doses']=temp['18+ Dose 1'].str.replace(',','').astype('int64')+temp['18+ Dose 2'].str.replace(',','').astype('int64')\n",
    "    temp['15-18 Total Doses']=temp['15-18 Dose 1'].str.replace(',','').astype('int64')+temp['15-18 Dose 2'].str.replace(',','').astype('int64')\n",
    "    temp['Date']=j\n",
    "    df5=pd.concat([df5,temp[['Date','State','18+ Dose 1','18+ Dose 2', '18+ Total Doses','15-18 Dose 1','15-18 Dose 2','15-18 Total Doses','60+ Booster Dose','Total Doses']]])\n",
    "df5.shape"
   ]
  },
  {
   "cell_type": "code",
   "execution_count": null,
   "id": "3fa34563",
   "metadata": {},
   "outputs": [],
   "source": [
    "df6=pd.DataFrame()\n",
    "for i,j in zip(link_list.loc[(link_list.Date>='2022-03-17') & (link_list.Date<='2022-04-10'),['Link']]['Link'],\n",
    "               link_list.loc[(link_list.Date>='2022-03-17') & (link_list.Date<='2022-04-10'),['Date']]['Date']):\n",
    "    try:\n",
    "        temp = read_pdf(i,pages=\"all\")[1] \n",
    "        temp=temp.dropna(how='all',axis=1)\n",
    "        temp=temp.loc[temp.iloc[:,0].isin([str(x) for x in range(1,40)]+[float(x) for x in range(1,40)])]\n",
    "        temp.columns=['Sl.No','State','18+ Dose 1','18+ Dose 2','15-18 Dose 1','15-18 Dose 2','12-14 Dose 1','60+ Booster Dose','Total Doses'] \n",
    "    except:\n",
    "        temp = read_pdf(i,pages=\"all\")[1] \n",
    "        temp=temp.dropna(how='all',axis=1)\n",
    "        temp=temp.loc[temp.iloc[:,0].isin([str(x) for x in range(1,40)]+[float(x) for x in range(1,40)])]\n",
    "        temp['18+ Dose 1']=temp['Unnamed: 2'].apply(lambda x:re.split(' ',x)[0])\n",
    "        temp['18+ Dose 2']=temp['Unnamed: 2'].apply(lambda x:re.split(' ',x)[1])\n",
    "        temp['15-18 Dose 1']=temp['Beneficiaries Vaccinated'].apply(lambda x:re.split(' ',x)[0])\n",
    "        temp['15-18 Dose 2']=temp['Beneficiaries Vaccinated'].apply(lambda x:re.split(' ',x)[1])\n",
    "        temp.drop(['Beneficiaries Vaccinated','Unnamed: 2'],axis=1,inplace=True)\n",
    "        temp.columns=['Sl.No','State','12-14 Dose 1','60+ Booster Dose','Total Doses','18+ Dose 1','18+ Dose 2','15-18 Dose 1','15-18 Dose 2']\n",
    "    temp['18+ Total Doses']=temp['18+ Dose 1'].str.replace(',','').astype('int64')+temp['18+ Dose 2'].str.replace(',','').astype('int64')\n",
    "    temp['15-18 Total Doses']=temp['15-18 Dose 1'].str.replace(',','').astype('int64')+temp['15-18 Dose 2'].str.replace(',','').astype('int64')\n",
    "    temp['Date']=j\n",
    "    df6=pd.concat([df6,temp[['Date','State','18+ Dose 1','18+ Dose 2', '18+ Total Doses','15-18 Dose 1','15-18 Dose 2','15-18 Total Doses','12-14 Dose 1','60+ Booster Dose','Total Doses']]])\n",
    "df6.shape"
   ]
  },
  {
   "cell_type": "code",
   "execution_count": null,
   "id": "86458bf0",
   "metadata": {},
   "outputs": [],
   "source": [
    "df7=pd.DataFrame()\n",
    "for i,j in zip(link_list.loc[(link_list.Date>='2022-04-11') & (link_list.Date<='2022-04-13'),['Link']]['Link'],\n",
    "               link_list.loc[(link_list.Date>='2022-04-11') & (link_list.Date<='2022-04-13'),['Date']]['Date']):\n",
    "    try:\n",
    "        temp = read_pdf(i,pages=\"all\")[1] \n",
    "        temp=temp.dropna(how='all',axis=1)\n",
    "        temp=temp.loc[temp.iloc[:,0].isin([str(x) for x in range(1,40)]+[float(x) for x in range(1,40)])]\n",
    "        temp.columns=['Sl.No','State','18+ Dose 1','18+ Dose 2','15-18 Dose 1','15-18 Dose 2','12-14 Dose 1','18-59 Booster Dose','60+ Booster Dose','Total Doses'] \n",
    "    except:\n",
    "        temp = read_pdf(i,pages=\"all\")[1] \n",
    "        temp=temp.dropna(how='all',axis=1)\n",
    "        temp=temp.loc[temp.iloc[:,0].isin([str(x) for x in range(1,40)]+[float(x) for x in range(1,40)])]\n",
    "        temp['18+ Dose 1']=temp['Unnamed: 2'].apply(lambda x:re.split(' ',x)[0])\n",
    "        temp['18+ Dose 2']=temp['Unnamed: 2'].apply(lambda x:re.split(' ',x)[1])\n",
    "        temp['15-18 Dose 1']=temp['Beneficiaries Vaccinated'].apply(lambda x:re.split(' ',x)[0])\n",
    "        temp['15-18 Dose 2']=temp['Beneficiaries Vaccinated'].apply(lambda x:re.split(' ',x)[1])\n",
    "        temp['12-14 Dose 1']=temp['Beneficiaries Vaccinated'].apply(lambda x:re.split(' ',x)[2])\n",
    "        temp['18-59 Booster Dose']=temp['Unnamed: 3'].apply(lambda x:re.split(' ',x)[0])\n",
    "        temp['60+ Booster Dose']=temp['Unnamed: 3'].apply(lambda x:re.split(' ',x)[1])\n",
    "        temp.drop(['Beneficiaries Vaccinated','Unnamed: 2','Unnamed: 3'],axis=1,inplace=True)\n",
    "        temp.columns=['Sl.No','State','Total Doses','18+ Dose 1','18+ Dose 2','15-18 Dose 1','15-18 Dose 2','12-14 Dose 1','18-59 Booster Dose','60+ Booster Dose']\n",
    "    temp['18+ Total Doses']=temp['18+ Dose 1'].str.replace(',','').astype('int64')+temp['18+ Dose 2'].str.replace(',','').astype('int64')\n",
    "    temp['15-18 Total Doses']=temp['15-18 Dose 1'].str.replace(',','').astype('int64')+temp['15-18 Dose 2'].str.replace(',','').astype('int64')\n",
    "    temp['Booster Total Doses']=temp['18-59 Booster Dose'].str.replace(',','').astype('int64')+temp['60+ Booster Dose'].str.replace(',','').astype('int64')\n",
    "    temp['Date']=j\n",
    "    df7=pd.concat([df7,temp[['Date','State','18+ Dose 1','18+ Dose 2', '18+ Total Doses','15-18 Dose 1','15-18 Dose 2','15-18 Total Doses','12-14 Dose 1','18-59 Booster Dose','60+ Booster Dose','Booster Total Doses','Total Doses']]])\n",
    "df7.shape"
   ]
  },
  {
   "cell_type": "code",
   "execution_count": null,
   "id": "d8adc871",
   "metadata": {},
   "outputs": [],
   "source": [
    "df8=pd.DataFrame()\n",
    "for i,j in zip(link_list.loc[(link_list.Date>='2022-04-14'),['Link']]['Link'],\n",
    "               link_list.loc[(link_list.Date>='2022-04-14'),['Date']]['Date']):\n",
    "    try:\n",
    "        temp = read_pdf(i,pages=\"all\")[1] \n",
    "        temp=temp.dropna(how='all',axis=1)\n",
    "        temp=temp.loc[temp.iloc[:,0].isin([str(x) for x in range(1,40)]+[float(x) for x in range(1,40)])].fillna('0')\n",
    "        temp.columns=['Sl.No','State','18+ Dose 1','18+ Dose 2','15-18 Dose 1','15-18 Dose 2','12-14 Dose 1','12-14 Dose 2','18-59 Booster Dose','60+ Booster Dose','Total Doses']\n",
    "    except:\n",
    "        try:\n",
    "            temp = read_pdf(i,pages=\"all\")[1] \n",
    "            temp=temp.dropna(how='all',axis=1)\n",
    "            temp=temp.loc[temp.iloc[:,0].isin([str(x) for x in range(1,40)]+[float(x) for x in range(1,40)])].fillna('0,0,0,0')\n",
    "            temp['18+ Dose 1']=temp['Unnamed: 2'].apply(lambda x:re.split(' ',x)[0])\n",
    "            temp['18+ Dose 2']=temp['Unnamed: 2'].apply(lambda x:re.split(' ',x)[1])\n",
    "            temp['15-18 Dose 1']=temp['Beneficiaries Vaccinated'].apply(lambda x:re.split(' ',x)[0])\n",
    "            temp['15-18 Dose 2']=temp['Beneficiaries Vaccinated'].apply(lambda x:re.split(' ',x)[1])\n",
    "            temp['12-14 Dose 1']=temp['Beneficiaries Vaccinated'].apply(lambda x:re.split(' ',x)[2])\n",
    "            temp['12-14 Dose 2']=temp['Beneficiaries Vaccinated'].apply(lambda x:re.split(' ',x)[3])\n",
    "            temp['18-59 Booster Dose']=temp['Unnamed: 3'].apply(lambda x:re.split(' ',x)[0])\n",
    "            temp['60+ Booster Dose']=temp['Unnamed: 3'].apply(lambda x:re.split(' ',x)[1])\n",
    "            temp.drop(['Beneficiaries Vaccinated','Unnamed: 2','Unnamed: 3'],axis=1,inplace=True)\n",
    "            temp.columns=['Sl.No','State','Total Doses','18+ Dose 1','18+ Dose 2','15-18 Dose 1','15-18 Dose 2','12-14 Dose 1','12-14 Dose 2','18-59 Booster Dose','60+ Booster Dose']\n",
    "        except:\n",
    "            temp = read_pdf(i,pages=\"all\")[1] \n",
    "            temp=temp.dropna(how='all',axis=1)\n",
    "            temp=temp.loc[temp.iloc[:,0].isin([str(x) for x in range(1,38)]+[float(x) for x in range(1,38)])]\n",
    "            temp=temp.dropna(how='all',axis=1)\n",
    "            temp.columns=['Sl.No','State','18+ Dose 1','18+ Dose 2','15-18 Dose 1','15-18 Dose 2','12-14 Dose 1','12-14 Dose 2','18-59 Booster Dose','60+ Booster Dose','Total Doses']\n",
    "    temp['18+ Total Doses']=temp['18+ Dose 1'].str.replace(',','').astype('int64')+temp['18+ Dose 2'].str.replace(',','').astype('int64')\n",
    "    temp['15-18 Total Doses']=temp['15-18 Dose 1'].str.replace(',','').astype('int64')+temp['15-18 Dose 2'].str.replace(',','').astype('int64')\n",
    "    temp['12-14 Total Doses']=temp['12-14 Dose 1'].str.replace(',','').astype('int64')+temp['12-14 Dose 2'].str.replace(',','').astype('int64')\n",
    "    temp['Booster Total Doses']=temp['18-59 Booster Dose'].str.replace(',','').astype('int64')+temp['60+ Booster Dose'].str.replace(',','').astype('int64')\n",
    "    temp['Date']=j\n",
    "    df8=pd.concat([df8,temp[['Date','State','18+ Dose 1','18+ Dose 2', '18+ Total Doses','15-18 Dose 1','15-18 Dose 2','15-18 Total Doses','12-14 Dose 1','12-14 Dose 2','12-14 Total Doses','18-59 Booster Dose','60+ Booster Dose','Booster Total Doses','Total Doses']]])\n",
    "df8.shape"
   ]
  },
  {
   "cell_type": "code",
   "execution_count": null,
   "id": "8efe6e4f",
   "metadata": {},
   "outputs": [],
   "source": [
    "final_df=pd.concat([df8,df1,df2,df3,df4,df5,df6,df7])\n",
    "final_df.sort_values(['Date','State'],inplace=True)\n",
    "final_df['State']=final_df['State'].str.strip()\n",
    "final_df.fillna('0',inplace=True)\n",
    "final_df=final_df.loc[~final_df.State.isin(['0','Miscellaneous'])]\n",
    "for i in ['18+ Dose 1', '18+ Dose 2','15-18 Dose 1', '15-18 Dose 2',\n",
    "          '12-14 Dose 1','12-14 Dose 2', '18-59 Booster Dose','60+ Booster Dose', 'Total Doses']:\n",
    "    final_df[i]=final_df[i].str.replace(',','').astype('int64')\n",
    "final_df['18+ Total Doses']=final_df['18+ Dose 1']+final_df['18+ Dose 2']\n",
    "final_df['15-18 Total Doses']=final_df['15-18 Dose 1']+final_df['15-18 Dose 2']\n",
    "final_df['12-14 Total Doses']=final_df['12-14 Dose 1']+final_df['12-14 Dose 2']\n",
    "final_df['Booster Total Doses']=final_df['18-59 Booster Dose']+final_df['60+ Booster Dose']\n",
    "final_df['Total Doses']=final_df['18+ Total Doses']+final_df['15-18 Total Doses']+final_df['12-14 Total Doses']+final_df['Booster Total Doses']\n",
    "final_df['State']=final_df.State.replace(to_replace=['A & N Islands', 'Andaman and Nicobar\\rIslands', 'Andhra Pradesh',\n",
    "       'Arunachal\\rPradesh', 'Arunachal Pradesh', 'Assam', 'Bihar',\n",
    "       'Chandigarh', 'Chhattisgarh', 'Chhattisgarh*', 'Dadra & Nagar',\n",
    "       'Dadra & Nagar\\rHaveli', 'Dadra & Nagar Haveli', 'Daman & Diu',\n",
    "       'Delhi', 'Goa', 'Gujarat', 'Haryana', 'Himachal Pradesh',\n",
    "       'Jammu & Kashmir', 'Jharkhand', 'Karnataka', 'Kerala', 'Ladakh',\n",
    "       'Lakshadweep', 'Madhya Pradesh', 'Maharashtra', 'Manipur',\n",
    "       'Meghalaya', 'Mizoram', 'Nagaland', 'Odisha', 'Puducherry',\n",
    "       'Punjab', 'Punjab*', 'Rajasthan', 'Sikkim', 'Tamil Nadu',\n",
    "       'Telangana', 'Tripura', 'Uttar Pradesh', 'Uttarakhand',\n",
    "       'West Bengal'],value=['Andaman & Nicobar Island','Andaman & Nicobar Island', 'Andhra Pradesh', 'Arunanchal Pradesh','Arunanchal Pradesh',\n",
    "'Assam', 'Bihar', 'Chandigarh', 'Chhattisgarh', 'Chhattisgarh','Dadara & Nagar Havelli','Dadara & Nagar Havelli',\n",
    "'Dadara & Nagar Havelli', 'Daman & Diu', 'NCT of Delhi', 'Goa', 'Gujarat',\n",
    "'Haryana', 'Himachal Pradesh', 'Jammu & Kashmir', 'Jharkhand',\n",
    "'Karnataka', 'Kerala', 'Ladakh', 'Lakshadweep', 'Madhya Pradesh',\n",
    "'Maharashtra', 'Manipur', 'Meghalaya', 'Mizoram', \n",
    "'Nagaland', 'Odisha', 'Puducherry', 'Punjab','Punjab', 'Rajasthan',\n",
    "'Sikkim', 'Tamil Nadu', 'Telangana', 'Tripura', 'Uttar Pradesh',\n",
    "'Uttarakhand', 'West Bengal'])\n",
    "final_df['Week']=final_df['Date'].dt.strftime('WK %U-%Y')\n",
    "final_df['Month']=final_df['Date'].dt.strftime('%b-%Y')\n",
    "final_df['Year']=final_df['Date'].dt.year\n",
    "final_df"
   ]
  },
  {
   "cell_type": "code",
   "execution_count": null,
   "id": "6dbb974d",
   "metadata": {},
   "outputs": [],
   "source": [
    "final_df.to_csv('india_vaccine.csv',index=False)"
   ]
  }
 ],
 "metadata": {
  "kernelspec": {
   "display_name": "Python 3 (ipykernel)",
   "language": "python",
   "name": "python3"
  },
  "language_info": {
   "codemirror_mode": {
    "name": "ipython",
    "version": 3
   },
   "file_extension": ".py",
   "mimetype": "text/x-python",
   "name": "python",
   "nbconvert_exporter": "python",
   "pygments_lexer": "ipython3",
   "version": "3.9.7"
  }
 },
 "nbformat": 4,
 "nbformat_minor": 5
}
